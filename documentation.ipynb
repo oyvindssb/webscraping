{
 "cells": [
  {
   "cell_type": "markdown",
   "id": "elect-baseball",
   "metadata": {},
   "source": [
    "# Documentation\n",
    "\n",
    "1. Download <a href=\"https://www.docker.com/products/docker-desktop\" target = \"_blank\">Docker desktop</a> locally on computer (windows).\n",
    "2. Install Docker Desktop and \"Run as administrator\" (for corporate computers: ask customer service for lokaladmin password ). \n",
    "3. Open Windows Powershell (x86) and \"Run as administrator\".\n",
    "4. Write \"docker run -d -p 6990:4444 --shm-size=\"2g\" selenium/standalone-chrome:4.0.0-rc-1-prerelease-20210804\" in Windows Powershell and press enter enter.\n",
    "5. Check if the container is running by writing \"docker ps\" in Windows Powershell and press enter.\n",
    "6. Åpne script i RStudio. Installer pakker først hvis scriptet kjøres for første gang. \n",
    "7. Trykk \"ctrl + enter\" for å kjøre scriptet. Output (excelfil) lagres i arbeidsmappe med nordpool_data + dagens dato. Sjekk valgt arbeidsmappe ved å kjøre kommandoen \"getwd()\". \n"
    ]
  }
 ],
 "metadata": {
  "kernelspec": {
   "display_name": "Python 3",
   "language": "python",
   "name": "python3"
  },
  "language_info": {
   "codemirror_mode": {
    "name": "ipython",
    "version": 3
   },
   "file_extension": ".py",
   "mimetype": "text/x-python",
   "name": "python",
   "nbconvert_exporter": "python",
   "pygments_lexer": "ipython3",
   "version": "3.6.8"
  }
 },
 "nbformat": 4,
 "nbformat_minor": 5
}
