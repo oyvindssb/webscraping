{
 "cells": [
  {
   "cell_type": "markdown",
   "id": "elect-baseball",
   "metadata": {},
   "source": [
    "# Documentation\n",
    "\n",
    "1. Download <a href=\"https://www.docker.com/products/docker-desktop\" target = \"_blank\">Docker desktop</a> locally on computer (windows).\n",
    "2. Install Docker Desktop and \"Run as administrator\" (for corporate computers: ask customer service for lokaladmin password ). \n",
    "3. Open Windows Powershell (x86) and \"Run as administrator\".\n",
    "4. Write \"docker run -d -p 6990:4444 --shm-size=\"2g\" selenium/standalone-chrome:4.0.0-rc-1-prerelease-20210804\" in Windows Powershell and press enter enter.\n",
    "5. Check if the container is running by writing \"docker ps\" in Windows Powershell and press enter.\n",
    "6. Open the script in RStudio. Install packages first if the script is run for the first time.\n",
    "7. Go back to Windows Powershell writing first \"docker ps\". Take the \"CONTAINER ID\" and write \"docker exec -it \"CONTAINER ID\" bin/bash\". \n",
    "8. Navigate into the downloader folder: First run \"cd home\". Next \"cd seluser\", and thereafter \"cd Downloads\". Run the command \"ls\" to see the downloaded files in the folder. \n",
    "9. Move files manually to local: docker cp [CONTAINER NAME]:"\\home\seluser\Downloads\" "\C:\Users\Documents\Downloads\".\n"
    "10. See <a href=\"https://stackoverflow.com/questions/42293193/rselenium-on-docker-where-are-files-downloaded\" target = \"_blank\">link</a> to map the folder to local on computer.\n"
    ]
  }
 ],
 "metadata": {
  "kernelspec": {
   "display_name": "Python 3",
   "language": "python",
   "name": "python3"
  },
  "language_info": {
   "codemirror_mode": {
    "name": "ipython",
    "version": 3
   },
   "file_extension": ".py",
   "mimetype": "text/x-python",
   "name": "python",
   "nbconvert_exporter": "python",
   "pygments_lexer": "ipython3",
   "version": "3.6.8"
  }
 },
 "nbformat": 4,
 "nbformat_minor": 5
}
