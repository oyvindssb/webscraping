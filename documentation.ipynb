{
 "cells": [
  {
   "cell_type": "markdown",
   "id": "elect-baseball",
   "metadata": {},
   "source": [
    "# Documentation\n",
    "\n",
    "1. Download <a href=\"https://www.docker.com/products/docker-desktop\" target = \"_blank\">Docker desktop</a> locally on computer (windows).\n",
    "2. Installer Docker Desktop og \"Run as administrator\" (spør kundeservice om lokaladmin passord). \n",
    "3. Åpne Windows Powershell (x86) og \"Run as administrator\".\n",
    "4. Skriv inn \"docker run -d -p 6990:4444 --shm-size=\"2g\" selenium/standalone-chrome:4.0.0-rc-1-prerelease-20210804\" i Windows Powershell og trykk enter.\n",
    "5. Sjekk om containeren kjører ved å skrive inn \"docker ps\" i Windows Powershell og trykk enter.\n",
    "6. Åpne script i RStudio. Installer pakker først hvis scriptet kjøres for første gang. \n",
    "7. Trykk \"ctrl + enter\" for å kjøre scriptet. Output (excelfil) lagres i arbeidsmappe med nordpool_data + dagens dato. Sjekk valgt arbeidsmappe ved å kjøre kommandoen \"getwd()\". \n"
    ]
  }
 ],
 "metadata": {
  "kernelspec": {
   "display_name": "Python 3",
   "language": "python",
   "name": "python3"
  },
  "language_info": {
   "codemirror_mode": {
    "name": "ipython",
    "version": 3
   },
   "file_extension": ".py",
   "mimetype": "text/x-python",
   "name": "python",
   "nbconvert_exporter": "python",
   "pygments_lexer": "ipython3",
   "version": "3.6.8"
  }
 },
 "nbformat": 4,
 "nbformat_minor": 5
}
